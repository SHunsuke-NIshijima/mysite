{
 "cells": [
  {
   "cell_type": "code",
   "execution_count": null,
   "metadata": {},
   "outputs": [],
   "source": [
    "    print(\"=========================\")\n",
    "    print(\"ポーカーハンドレンジチェック!\")\n",
    "    print(\"=========================\")\n",
    "    \n",
    "    cl=[\"S\",\"A\",\"C\",\"B\",\"D\",\"F\"]\n",
    "    B=f\"{cl[0]}ランクのハンドです!\"\n",
    "    R=f\"{cl[1]}ランクのハンドです!\"\n",
    "    G=f\"{cl[2]}ランクのハンドです!\"\n",
    "    Y=f\"{cl[3]}ランクのハンドです!\"\n",
    "    A=f\"{cl[4]}ランクのハンドです!\"\n",
    "    W=f\"{cl[5]}ランクのハンドです!\"\n",
    "\n",
    "    hands={\"AA\":B,\"AKs\":B,\"AQs\":R,\"AJs\":R,\"ATs\":R,\"A9s\":G,\n",
    "      \"A8s\":G,\"A7s\":G,\"A6s\":G,\"A5s\":G,\"A4s\":G,\"A3s\":G,\"A2s\":G,\n",
    "           \n",
    "          \"AKo\":B,\"KK\":B,\"KQs\":R,\"KJs\":Y,\"KTs\":G,\"K9s\":G,\n",
    "      \"K8s\":W,\"K7s\":W,\"K6s\":W,\"K5s\":W,\"K4s\":W,\"K3s\":W,\"K2s\":W,\n",
    "          \n",
    "          \"AQo\":R,\"KQo\":Y,\"QQ\":B,\"QJs\":Y,\"QTs\":G,\"Q9s\":A,\n",
    "      \"Q8s\":W,\"Q7s\":W,\"Q6s\":W,\n",
    "           \n",
    "          \"AJo\":Y,\"KJo\":G,\"QJo\":A,\"JJ\":R,\"JTs\":Y,\"J9s\":A,\n",
    "      \"J8s\":A,\"J7s\":A,\n",
    "          \n",
    "          \"ATo\":G,\"KTo\":A,\"QTo\":W,\"JTs\":A,\"TT\":R,\"T9s\":G,\n",
    "      \"T8s\":A,\n",
    "    \n",
    "          \"A9o\":A,\"K9o\":W,\"Q9o\":W,\"J9s\":W,\"T9s\":W,\"99\":R, \"98s\":A, \"97s\":W,\n",
    "                                        \"A8o\":W,\"88\":W,\"87s\":W,\n",
    "                                                    \"77\":Y,\"76s\":W,\n",
    "                                                            \"66\":G,\"65s\":W,\n",
    "                                                                \"55\":G,\n",
    "                                                                    \"44\":A,\n",
    "                                                                      \"33\":A,\n",
    "                                                                        \"22\":A\n",
    "          }\n",
    "    \n",
    "    turn=1\n",
    "    while True:\n",
    "            print(\"--------------------\")\n",
    "            print(f\"{turn}回目のターンです\")\n",
    "            \n",
    "            hand=str(input())\n",
    "            if hand in hands:\n",
    "                print(f\"指示:{hands[hand]}\")\n",
    "            else:\n",
    "                print(\"指示:フォールドしてください\")\n",
    "            turn+=1\n",
    "            if turn >100:\n",
    "                break\n",
    "        \n",
    "\n",
    "            "
   ]
  },
  {
   "cell_type": "code",
   "execution_count": null,
   "metadata": {},
   "outputs": [],
   "source": []
  }
 ],
 "metadata": {
  "kernelspec": {
   "display_name": "Python 3",
   "language": "python",
   "name": "python3"
  },
  "language_info": {
   "codemirror_mode": {
    "name": "ipython",
    "version": 3
   },
   "file_extension": ".py",
   "mimetype": "text/x-python",
   "name": "python",
   "nbconvert_exporter": "python",
   "pygments_lexer": "ipython3",
   "version": "3.9.7"
  }
 },
 "nbformat": 4,
 "nbformat_minor": 4
}
